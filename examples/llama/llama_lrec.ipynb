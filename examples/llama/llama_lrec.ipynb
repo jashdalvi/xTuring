{
 "cells": [
  {
   "cell_type": "code",
   "execution_count": null,
   "metadata": {},
   "outputs": [],
   "source": [
    "import random\n",
    "import torch\n",
    "import wandb\n",
    "import argparse\n",
    "from xturing.engines.quant_utils.lrec import (\n",
    "\tget_c4,\n",
    "\tprepare_models,\n",
    "\ttrain_model\n",
    ")\n",
    "wandb.login()"
   ]
  },
  {
   "cell_type": "code",
   "execution_count": null,
   "metadata": {},
   "outputs": [],
   "source": [
    "lrec_config = {\n",
    "    \"base_model\": \"decapoda-research/llama-7b-hf\",\n",
    "    \"intq_checkpoint\": \"llama7b-2bit-128g.pt\",\n",
    "    \"wbits\": 2,\n",
    "    \"groupsize\": 128,\n",
    "    \"lora_alpha\": 128,\n",
    "    \"lora_r\": 32,\n",
    "    \"lora_dropout\": 0.05,\n",
    "    \"lora_target_modules\": [\n",
    "        \"q_proj\",\n",
    "        \"v_proj\",\n",
    "        \"k_proj\",\n",
    "        \"o_proj\",\n",
    "        \"up_proj\",\n",
    "        \"down_proj\",\n",
    "        \"gate_proj\",\n",
    "    ],\n",
    "    \"n_samples\": 2048,\n",
    "    \"lr\": 3e-4,\n",
    "    \"batch_size\": 1,\n",
    "    \"num_epochs\": 3,\n",
    "    \"kl_weight\": 1.0,\n",
    "    \"ce_weight\": 200.0,\n",
    "    \"trainable_kl_weight\": False,\n",
    "    \"trainable_ce_weight\": False,\n",
    "    \"weight_decay\": 1e-5,\n",
    "    \"save_freq\": 1,\n",
    "    \"intra_save_freq\": 200,\n",
    "    \"seed\": 0,\n",
    "    \"seqlen\": 2048,\n",
    "    \"cache\": False,\n",
    "    \"train_cache_dir\": \"./train_cache/\",\n",
    "    \"val_cache_dir\": \"./val_cache/\",\n",
    "    \"ckpt_dir\": \"./ckpts/\",\n",
    "    \"save_dir\": \"./save/\",\n",
    "}"
   ]
  },
  {
   "cell_type": "code",
   "execution_count": null,
   "metadata": {},
   "outputs": [],
   "source": [
    "args = argparse.Namespace(**lrec_config)\n",
    "random.seed(args.seed)\n",
    "torch.manual_seed(args.seed)\n",
    "torch.cuda.manual_seed(args.seed)\n",
    "\n",
    "model, fp_model = prepare_models(args)\n",
    "trainloader, valenc = get_c4(\n",
    "    args.base_model, args.seqlen, args.n_samples, args.batch_size, args.seed\n",
    ")\n",
    "train_model(args, model, fp_model, trainloader, valenc)"
   ]
  }
 ],
 "metadata": {
  "kernelspec": {
   "display_name": "stochastic",
   "language": "python",
   "name": "python3"
  },
  "language_info": {
   "codemirror_mode": {
    "name": "ipython",
    "version": 3
   },
   "file_extension": ".py",
   "mimetype": "text/x-python",
   "name": "python",
   "nbconvert_exporter": "python",
   "pygments_lexer": "ipython3",
   "version": "3.9.16"
  },
  "orig_nbformat": 4
 },
 "nbformat": 4,
 "nbformat_minor": 2
}
